{
 "cells": [
  {
   "metadata": {},
   "cell_type": "markdown",
   "source": [
    "# Class 1\n",
    "\n",
    "This class is focused upon building efficient python scripts and handling data in numpy."
   ],
   "id": "eb8602389a719551"
  },
  {
   "metadata": {
    "ExecuteTime": {
     "end_time": "2024-11-16T09:47:55.991636Z",
     "start_time": "2024-11-16T09:47:55.852304Z"
    }
   },
   "cell_type": "code",
   "source": [
    "import numpy as np\n",
    "\n",
    "\n",
    "# Numpy creates c-represented arrays that efficiently lie within system memory (no python typical object based saving)\n",
    "x = np.array([[1,2,3], [4,5,6]])\n",
    "print(x) # print whole array\n",
    "print(x[1]) # print part of array\n",
    "print(x[1,2]) # print specific part of array\n",
    "print(x[0:2,2:3])  # print slice\n",
    "\n",
    "\n",
    "vec = ([1,2,3])\n",
    "# access single items\n",
    "print(vec[1]) # prints item 1 of vec\n",
    "print(vec[0:2]) # prints subarray\n",
    "print(vec[2:]) # prints open end of array"
   ],
   "id": "eff6a6614b5036fe",
   "outputs": [
    {
     "name": "stdout",
     "output_type": "stream",
     "text": [
      "[[1 2 3]\n",
      " [4 5 6]]\n",
      "[4 5 6]\n",
      "6\n",
      "[[3]\n",
      " [6]]\n",
      "2\n",
      "[1, 2]\n",
      "[3]\n"
     ]
    }
   ],
   "execution_count": 1
  },
  {
   "metadata": {
    "ExecuteTime": {
     "end_time": "2024-11-16T08:54:12.985027Z",
     "start_time": "2024-11-16T08:54:12.974512Z"
    }
   },
   "cell_type": "code",
   "source": [
    "# Playing with arrays\n",
    "\n",
    "np.zeros(4) # not referenced and therefor released to garbage collector instantly\n",
    "\n",
    "np.arange(4) # not referenced and therefor released to garbage collector instantly\n",
    "\n",
    "np.zeros((10,10)) # not referenced and therefor released to garbage collector instantly\n",
    "\n",
    "int32_array = np.array([[1,2,3],[1,2,3]], np.int32) # specify datatype\n",
    "int32_array.dtype # can be used for analysis\n",
    "int32_array.ndim\n",
    "int32_array.shape\n",
    "int32_array.size\n",
    "\n",
    "int32_array = np.array([[1,2,3],[1,2,3]], np.int32)\n",
    "\n",
    "y = int32_array.reshape(6) # reshape to 1dim - USES SAME MEMORY!!!\n",
    "# int32_array.shape[0,1] = 32 # WILL CHANGE BOTH Y AND INT32_ARRAY\n",
    "\n"
   ],
   "id": "cfb0f7647be0a34c",
   "outputs": [],
   "execution_count": 104
  },
  {
   "metadata": {
    "ExecuteTime": {
     "end_time": "2024-11-16T09:05:45.217762Z",
     "start_time": "2024-11-16T09:05:45.209893Z"
    }
   },
   "cell_type": "code",
   "source": [
    "# Exercise in class\n",
    "\n",
    "def print_bytes(arr, idx):\n",
    "    # Error handling\n",
    "    if idx[0] >= arr.shape[0] or idx[1] > arr.shape[1]:\n",
    "        print(\"Out of bounds\")\n",
    "        return\n",
    "\n",
    "    bytesize = arr.itemsize  # Get the size of each element in bytes\n",
    "\n",
    "    raw_byte_array = arr.byteswap().tobytes()\n",
    "\n",
    "    # Calculate the byte offset for the given index\n",
    "    element_offset = bytesize * (idx[1] + idx[0] * arr.shape[1])\n",
    "\n",
    "    # Print the raw byte at the calculated offset\n",
    "    raw_byte = raw_byte_array[element_offset:element_offset + bytesize]  # Slice for the raw byte(s) of the element\n",
    "    print(f\"Raw byte(s) at index ({idx[0]}, {idx[1]}): {raw_byte}\")\n",
    "    return\n",
    "\n",
    "arr = np.array([[1,2,3],[4,5,6]], np.int16)\n",
    "idx = (0,3)\n",
    "print_bytes(arr, idx)\n",
    "\n"
   ],
   "id": "caf2e9eab3bf78c7",
   "outputs": [
    {
     "name": "stdout",
     "output_type": "stream",
     "text": [
      "Raw byte(s) at index (0, 3): b'\\x00\\x04'\n"
     ]
    }
   ],
   "execution_count": 124
  },
  {
   "metadata": {
    "ExecuteTime": {
     "end_time": "2024-11-16T08:40:13.428105Z",
     "start_time": "2024-11-16T08:40:13.425817Z"
    }
   },
   "cell_type": "code",
   "source": [
    "b = np.array([1,1,3,3],[2,2,4,4])\n",
    "print(np.hsplit(b,2))\n",
    "print(np.vsplit(b,2))\n",
    "\n",
    "a = np.array([1,2,3,4],[5,6,7,8])\n",
    "b = a[0,:]\n",
    "c = a[1,:].copy()\n",
    "c[0] = 23\n",
    "print(c)\n",
    "print(b)"
   ],
   "id": "16257bc1828c7bdd",
   "outputs": [
    {
     "name": "stdout",
     "output_type": "stream",
     "text": [
      "6\n"
     ]
    }
   ],
   "execution_count": 57
  },
  {
   "metadata": {},
   "cell_type": "code",
   "outputs": [],
   "execution_count": null,
   "source": [
    "a = np.array([1,2,3,4,5,6,7,8,9])\n",
    "a.shape\n",
    "row_vec = a[np.newaxis,:]\n",
    "row_vec.shape\n",
    "col_vec = a[:,np.newaxis]\n",
    "col_vec.shape\n",
    "\n",
    "row_vec = np.expand_dims(a, axis=0)\n",
    "row_vec\n",
    "col_vec = np.expand_dims(a, axis=1)\n",
    "col_vec\n",
    "\n"
   ],
   "id": "4ffbb8fb5e81a210"
  },
  {
   "metadata": {
    "ExecuteTime": {
     "end_time": "2024-11-16T09:49:58.428228Z",
     "start_time": "2024-11-16T09:49:55.634014Z"
    }
   },
   "cell_type": "code",
   "source": [
    "# Exercise 2 - vector normalization without numpy\n",
    "\n",
    "from random import random\n",
    "\n",
    "data = [random() for _ in range(30000000)]\n",
    "\n",
    "mean = sum(data) / len(data)\n",
    "result = [data[i] - mean for i in range(len(data))]\n"
   ],
   "id": "340744942a48a641",
   "outputs": [],
   "execution_count": 7
  },
  {
   "metadata": {
    "ExecuteTime": {
     "end_time": "2024-11-16T09:49:53.586098Z",
     "start_time": "2024-11-16T09:49:53.406211Z"
    }
   },
   "cell_type": "code",
   "source": [
    "# Exercise 2 - vector normalization with numpy FAST - dont use for loops with numpy\n",
    "\n",
    "# numpy array with 3000000 randoms\n",
    "data_np = np.random.random(30000000)\n",
    "\n",
    "mean_np = data_np.sum() / len(data_np)\n",
    "result_np = data_np - mean_np\n",
    "\n"
   ],
   "id": "dbf32ec3b8e00e84",
   "outputs": [],
   "execution_count": 6
  },
  {
   "metadata": {
    "ExecuteTime": {
     "end_time": "2024-11-16T10:25:08.676508Z",
     "start_time": "2024-11-16T10:25:08.673265Z"
    }
   },
   "cell_type": "code",
   "source": [
    "a = np.array([[1,2,3,4],[5,6,7,8], [9,10,11,12]])\n",
    "\n",
    "rows = np.array([[0,0], [2,2]])\n",
    "cols = np.array([[0,0], [2,3]])\n",
    "\n",
    "a[rows, cols]\n",
    "a[rows]\n",
    "\n",
    "a[np.array([1, -1])]\n",
    "\n",
    "a < 6\n",
    "a[a<6]\n",
    "(a>5) | (a==5)\n",
    "a[(a>5) | (a==5)]"
   ],
   "id": "c527ba46a5ebdb12",
   "outputs": [
    {
     "data": {
      "text/plain": [
       "array([ 5,  6,  7,  8,  9, 10, 11, 12])"
      ]
     },
     "execution_count": 17,
     "metadata": {},
     "output_type": "execute_result"
    }
   ],
   "execution_count": 17
  },
  {
   "metadata": {
    "ExecuteTime": {
     "end_time": "2024-11-16T10:26:35.285352Z",
     "start_time": "2024-11-16T10:26:35.273275Z"
    }
   },
   "cell_type": "code",
   "source": [
    "# Alternative durch Numpy\n",
    "\n",
    "a = np.array([[1,2,3,4],[5,6,7,8], [9,10,11,12]])\n",
    "\n",
    "np.where(a <6, a, 0)\n",
    "np.nonzero(a<6)\n"
   ],
   "id": "97acdbbdd9c433aa",
   "outputs": [
    {
     "data": {
      "text/plain": [
       "(array([0, 0, 0, 0, 1]), array([0, 1, 2, 3, 0]))"
      ]
     },
     "execution_count": 19,
     "metadata": {},
     "output_type": "execute_result"
    }
   ],
   "execution_count": 19
  }
 ],
 "metadata": {
  "kernelspec": {
   "display_name": "Python 3",
   "language": "python",
   "name": "python3"
  },
  "language_info": {
   "codemirror_mode": {
    "name": "ipython",
    "version": 2
   },
   "file_extension": ".py",
   "mimetype": "text/x-python",
   "name": "python",
   "nbconvert_exporter": "python",
   "pygments_lexer": "ipython2",
   "version": "2.7.6"
  }
 },
 "nbformat": 4,
 "nbformat_minor": 5
}
