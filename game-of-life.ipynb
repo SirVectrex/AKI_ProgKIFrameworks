{
 "cells": [
  {
   "cell_type": "code",
   "id": "initial_id",
   "metadata": {
    "collapsed": true,
    "ExecuteTime": {
     "end_time": "2024-11-16T12:43:01.385701Z",
     "start_time": "2024-11-16T12:43:01.381006Z"
    }
   },
   "source": [
    "import numpy as np\n",
    "\n",
    "grid_py = [[0,0,0,0,0,0,0,0],\n",
    "        [0,0,0,1,0,0,0,0],\n",
    "        [0,1,0,1,0,0,0,0],\n",
    "        [0,0,1,1,0,0,0,0],\n",
    "        [0,0,0,0,0,0,0,0],\n",
    "        [0,0,0,0,0,0,0,0],\n",
    "        [0,0,0,0,0,0,0,0],\n",
    "        [0,0,0,0,0,0,0,0]\n",
    "        ]\n",
    "\n",
    "def show_py(grid_py):\n",
    "    for row in grid_py[1:-1]:\n",
    "        print(row[1:-1])\n",
    "    print()\n",
    "\n",
    "\n",
    "def compute_neighbours_py(grid_py):\n",
    "    (rows, cols) = len(grid_py), len(grid_py[0])\n",
    "    neighbours = [[0] * cols for i in range(rows)]\n",
    "    for row in range(1, rows-1):\n",
    "        for col in range(1, cols-1):\n",
    "            neighbours[row][col] = (grid_py[row-1][col-1] + grid_py[row-1][col] + grid_py[row-1][col+1] +\n",
    "                                    grid_py[row][col-1] +                      grid_py[row][col+1] +\n",
    "                                    grid_py[row+1][col-1] + grid_py[row+1][col] + grid_py[row+1][col+1])\n",
    "\n",
    "    return neighbours\n",
    "\n",
    "def update_py(grid_py):\n",
    "    (rows, cols) = len(grid_py), len(grid_py[0])\n",
    "    neighbours = compute_neighbours_py(grid_py)\n",
    "    for row in range(1, rows-1):\n",
    "        for col in range(1, cols-1):\n",
    "            if grid_py[row][col] == 1 and (neighbours[row][col] < 2 or neighbours[row][col] > 3):\n",
    "                grid_py[row][col] = 0\n",
    "            elif grid_py[row][col] == 0 and neighbours[row][col] == 3:\n",
    "                grid_py[row][col] = 1\n",
    "\n",
    "\n",
    "show_py(grid_py)\n",
    "update_py(grid_py)\n",
    "show_py(grid_py)\n",
    "update_py(grid_py)\n",
    "show_py(grid_py)\n",
    "\n"
   ],
   "outputs": [
    {
     "name": "stdout",
     "output_type": "stream",
     "text": [
      "[0, 0, 1, 0, 0, 0]\n",
      "[1, 0, 1, 0, 0, 0]\n",
      "[0, 1, 1, 0, 0, 0]\n",
      "[0, 0, 0, 0, 0, 0]\n",
      "[0, 0, 0, 0, 0, 0]\n",
      "[0, 0, 0, 0, 0, 0]\n",
      "\n",
      "[0, 1, 0, 0, 0, 0]\n",
      "[0, 0, 1, 1, 0, 0]\n",
      "[0, 1, 1, 0, 0, 0]\n",
      "[0, 0, 0, 0, 0, 0]\n",
      "[0, 0, 0, 0, 0, 0]\n",
      "[0, 0, 0, 0, 0, 0]\n",
      "\n",
      "[0, 0, 1, 0, 0, 0]\n",
      "[0, 0, 0, 1, 0, 0]\n",
      "[0, 1, 1, 1, 0, 0]\n",
      "[0, 0, 0, 0, 0, 0]\n",
      "[0, 0, 0, 0, 0, 0]\n",
      "[0, 0, 0, 0, 0, 0]\n",
      "\n"
     ]
    }
   ],
   "execution_count": 27
  },
  {
   "metadata": {
    "ExecuteTime": {
     "end_time": "2024-11-16T12:47:13.121364Z",
     "start_time": "2024-11-16T12:47:13.113766Z"
    }
   },
   "cell_type": "code",
   "source": [
    "# This is the numpy implementation\n",
    "\n",
    "grid_py = [[0,0,0,0,0,0,0,0],\n",
    "        [0,0,0,1,0,0,0,0],\n",
    "        [0,1,0,1,0,0,0,0],\n",
    "        [0,0,1,1,0,0,0,0],\n",
    "        [0,0,0,0,0,0,0,0],\n",
    "        [0,0,0,0,0,0,0,0],\n",
    "        [0,0,0,0,0,0,0,0],\n",
    "        [0,0,0,0,0,0,0,0]\n",
    "        ]\n",
    "\n",
    "grid = np.array(grid_py)\n",
    "# grid = np.random.randint(0,2, (256, 512))\n",
    "\n",
    "def show(grid):\n",
    "    print(grid)\n",
    "\n",
    "def compute_neighbour(grid):\n",
    "    neighbours = np.zeros(grid.shape, np.int32)\n",
    "\n",
    "    neighbours[1:-1,1:-1] = (grid[0:-2,0:-2] + grid[0:-2,1:-1] + grid[0:-2,2:] +\n",
    "                              grid[1:-1,0:-2] +                      grid[1:-1,2:] +\n",
    "                              grid[2:,0:-2] + grid[2:,1:-1] + grid[2:,2:])\n",
    "\n",
    "    print(neighbours)\n",
    "\n",
    "    return neighbours\n",
    "\n",
    "\n",
    "def update(grid):\n",
    "    neighbours = compute_neighbour(grid)\n",
    "    # Rule 1: If the cell is 1 and has less than 2 or more than 3 neighbors, set it to 0.\n",
    "    grid = np.where((grid == 1) & ((neighbours < 2) | (neighbours > 3)), 0, grid)\n",
    "\n",
    "    # Rule 2: If the cell is 0 and has exactly 3 neighbors, set it to 1.\n",
    "    grid = np.where((grid == 0) & (neighbours == 3), 1, grid)\n",
    "\n",
    "\n",
    "\n",
    "show(grid)\n",
    "update(grid)\n",
    "show(grid)\n",
    "\n",
    "\n"
   ],
   "id": "9319456ce3de4c70",
   "outputs": [
    {
     "name": "stdout",
     "output_type": "stream",
     "text": [
      "[[0 0 0 0 0 0 0 0]\n",
      " [0 0 0 1 0 0 0 0]\n",
      " [0 1 0 1 0 0 0 0]\n",
      " [0 0 1 1 0 0 0 0]\n",
      " [0 0 0 0 0 0 0 0]\n",
      " [0 0 0 0 0 0 0 0]\n",
      " [0 0 0 0 0 0 0 0]\n",
      " [0 0 0 0 0 0 0 0]]\n",
      "[[0 0 0 0 0 0 0 0]\n",
      " [0 1 3 1 2 0 0 0]\n",
      " [0 1 5 3 3 0 0 0]\n",
      " [0 2 3 2 2 0 0 0]\n",
      " [0 1 2 2 1 0 0 0]\n",
      " [0 0 0 0 0 0 0 0]\n",
      " [0 0 0 0 0 0 0 0]\n",
      " [0 0 0 0 0 0 0 0]]\n",
      "[[0 0 0 0 0 0 0 0]\n",
      " [0 0 0 1 0 0 0 0]\n",
      " [0 1 0 1 0 0 0 0]\n",
      " [0 0 1 1 0 0 0 0]\n",
      " [0 0 0 0 0 0 0 0]\n",
      " [0 0 0 0 0 0 0 0]\n",
      " [0 0 0 0 0 0 0 0]\n",
      " [0 0 0 0 0 0 0 0]]\n"
     ]
    }
   ],
   "execution_count": 34
  },
  {
   "metadata": {},
   "cell_type": "code",
   "outputs": [],
   "execution_count": null,
   "source": "",
   "id": "93597e1bd92775db"
  }
 ],
 "metadata": {
  "kernelspec": {
   "display_name": "Python 3",
   "language": "python",
   "name": "python3"
  },
  "language_info": {
   "codemirror_mode": {
    "name": "ipython",
    "version": 2
   },
   "file_extension": ".py",
   "mimetype": "text/x-python",
   "name": "python",
   "nbconvert_exporter": "python",
   "pygments_lexer": "ipython2",
   "version": "2.7.6"
  }
 },
 "nbformat": 4,
 "nbformat_minor": 5
}
