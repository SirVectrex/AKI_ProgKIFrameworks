{
 "cells": [
  {
   "cell_type": "code",
   "id": "initial_id",
   "metadata": {
    "collapsed": true,
    "ExecuteTime": {
     "end_time": "2024-11-16T10:51:51.503961Z",
     "start_time": "2024-11-16T10:51:51.496532Z"
    }
   },
   "source": [
    "grid = [[0,0,0,0,0,0,0,0],\n",
    "        [0,0,0,1,0,0,0,0],\n",
    "        [0,1,0,1,0,0,0,0],\n",
    "        [0,0,1,1,0,0,0,0],\n",
    "        [0,0,0,0,0,0,0,0],\n",
    "        [0,0,0,0,0,0,0,0],\n",
    "        [0,0,0,0,0,0,0,0],\n",
    "        [0,0,0,0,0,0,0,0]\n",
    "        ]\n",
    "\n",
    "def show(grid):\n",
    "    for row in grid[1:-1]:\n",
    "        print(row[1:-1])\n",
    "    print()\n",
    "\n",
    "\n",
    "def compute_neighbours(grid):\n",
    "    (rows, cols) = len(grid), len(grid[0])\n",
    "    neighbours = [[0] * cols for i in range(rows)]\n",
    "    for row in range(1, rows-1):\n",
    "        for col in range(1, cols-1):\n",
    "            neighbours[row][col] = (grid[row-1][col-1] + grid[row-1][col] + grid[row-1][col+1] +\n",
    "                                    grid[row][col-1] +                      grid[row][col+1] +\n",
    "                                    grid[row+1][col-1] + grid[row+1][col] + grid[row+1][col+1])\n",
    "\n",
    "    return neighbours\n",
    "\n",
    "def update(grid):\n",
    "    (rows, cols) = len(grid), len(grid[0])\n",
    "    neighbours = compute_neighbours(grid)\n",
    "    for row in range(1, rows-1):\n",
    "        for col in range(1, cols-1):\n",
    "            if grid[row][col] == 1 and (neighbours[row][col] < 2 or neighbours[row][col] > 3):\n",
    "                grid[row][col] = 0\n",
    "            elif grid[row][col] == 0 and neighbours[row][col] == 3:\n",
    "                grid[row][col] = 1\n",
    "\n",
    "\n",
    "show(grid)\n",
    "update(grid)\n",
    "\n"
   ],
   "outputs": [
    {
     "name": "stdout",
     "output_type": "stream",
     "text": [
      "[0, 0, 1, 0, 0, 0]\n",
      "[1, 0, 1, 0, 0, 0]\n",
      "[0, 1, 1, 0, 0, 0]\n",
      "[0, 0, 0, 0, 0, 0]\n",
      "[0, 0, 0, 0, 0, 0]\n",
      "[0, 0, 0, 0, 0, 0]\n",
      "\n"
     ]
    }
   ],
   "execution_count": 6
  },
  {
   "metadata": {},
   "cell_type": "code",
   "outputs": [],
   "execution_count": null,
   "source": "",
   "id": "9319456ce3de4c70"
  }
 ],
 "metadata": {
  "kernelspec": {
   "display_name": "Python 3",
   "language": "python",
   "name": "python3"
  },
  "language_info": {
   "codemirror_mode": {
    "name": "ipython",
    "version": 2
   },
   "file_extension": ".py",
   "mimetype": "text/x-python",
   "name": "python",
   "nbconvert_exporter": "python",
   "pygments_lexer": "ipython2",
   "version": "2.7.6"
  }
 },
 "nbformat": 4,
 "nbformat_minor": 5
}
