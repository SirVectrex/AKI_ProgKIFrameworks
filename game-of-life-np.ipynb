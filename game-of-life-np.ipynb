{
 "cells": [
  {
   "cell_type": "code",
   "execution_count": null,
   "metadata": {},
   "outputs": [],
   "source": [
    "import numpy as np\n",
    "import time\n",
    "\n",
    "grid_py = [[0, 0, 0, 0, 0, 0, 0, 0],\n",
    "        [0, 0, 0, 1, 0, 0, 0, 0],\n",
    "        [0, 1, 0, 1, 0, 0, 0, 0],\n",
    "        [0, 0, 1, 1, 0, 0, 0, 0],\n",
    "        [0, 0, 0, 0, 0, 0, 0, 0],\n",
    "        [0, 0, 0, 0, 0, 0, 0, 0],\n",
    "        [0, 0, 0, 0, 0, 0, 0, 0]]\n",
    "\n",
    "grid = np.array(grid_py)\n",
    "#grid = np.random.randint(0, 2, (256, 512))\n",
    "\n",
    "\n",
    "def show(grid):\n",
    "    for row in grid[1:-1]:\n",
    "        print(row[1:-1])\n",
    "    print()\n",
    "\n",
    "def compute_neighbors(grid):\n",
    "    neighbors = np.zeros(grid.shape, np.int32)\n",
    "    neighbors[1:-1, 1:-1] = (grid[0:-2, 0:-2] + grid[0:-2, 1:-1] + grid[0:-2, 2:] +\n",
    "                             grid[1:-1, 0:-2]                    + grid[1:-1, 2:] +\n",
    "                             grid[2:  , 0:-2] + grid[2:  , 1:-1] + grid[2:  , 2:])\n",
    "    return neighbors\n",
    "\n",
    "def update(grid):\n",
    "    (rows, cols) = len(grid), len(grid[0])\n",
    "    neighbors = compute_neighbors(grid)\n",
    "    print(id(grid))\n",
    "\n",
    "    for row in range(1, rows-1):\n",
    "        for col in range(1, cols-1):\n",
    "            if grid[row][col] == 1 and (neighbors[row][col] < 2 or neighbors[row][col] > 3):\n",
    "                grid[row][col] = 0\n",
    "            elif grid[row][col] == 0 and neighbors[row][col] == 3:\n",
    "                grid[row][col] = 1\n",
    "            #elif grid[row][col] == 1 and (neighbors[row][col] == 2 or neighbors[row][col] == 3):\n",
    "            #    grid[row][col] == 1\n",
    "\n",
    "\n",
    "#show(grid)\n",
    "print(id(grid))\n",
    "for i in range(5):\n",
    "    start = time.time()\n",
    "    update(grid)\n",
    "    end = time.time()\n",
    "    print(f\"game of life update {i}: {end - start} s\")\n",
    "    show(grid)"
   ]
  }
 ],
 "metadata": {
  "kernelspec": {
   "display_name": "Python 3",
   "language": "python",
   "name": "python3"
  },
  "language_info": {
   "codemirror_mode": {
    "name": "ipython",
    "version": 3
   },
   "file_extension": ".py",
   "mimetype": "text/x-python",
   "name": "python",
   "nbconvert_exporter": "python",
   "pygments_lexer": "ipython3",
   "version": "3.11.10"
  }
 },
 "nbformat": 4,
 "nbformat_minor": 2
}
