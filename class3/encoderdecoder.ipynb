{
 "cells": [
  {
   "cell_type": "code",
   "execution_count": 1,
   "metadata": {},
   "outputs": [
    {
     "data": {
      "text/plain": [
       "Denoiser(\n",
       "  (conv0): Conv2d(3, 32, kernel_size=(3, 3), stride=(1, 1))\n",
       "  (conv1): Conv2d(32, 32, kernel_size=(3, 3), stride=(1, 1))\n",
       "  (conv2): Conv2d(32, 48, kernel_size=(3, 3), stride=(1, 1))\n",
       "  (conv3): Conv2d(48, 64, kernel_size=(3, 3), stride=(1, 1))\n",
       "  (conv4): Conv2d(64, 80, kernel_size=(3, 3), stride=(1, 1))\n",
       "  (conv5): Conv2d(80, 96, kernel_size=(3, 3), stride=(1, 1))\n",
       "  (conv6): Conv2d(96, 96, kernel_size=(3, 3), stride=(1, 1))\n",
       ")"
      ]
     },
     "execution_count": 1,
     "metadata": {},
     "output_type": "execute_result"
    }
   ],
   "source": [
    "import torch\n",
    "import torch.nn as nn\n",
    "import torch.nn.functional as func\n",
    "\n",
    "class Denoiser(nn.Module):\n",
    "    def __init__(self):\n",
    "        super().__init__()\n",
    "        self.conv0 = nn.Conv2d(3, 32, 3)\n",
    "        self.conv1 = nn.Conv2d(32, 32, 3)\n",
    "        self.conv2 = nn.Conv2d(32, 48, 3)\n",
    "        self.conv3 = nn.Conv2d(48, 64, 3)\n",
    "        self.conv4 = nn.Conv2d(64, 80, 3)\n",
    "        self.conv5 = nn.Conv2d(80, 96, 3)\n",
    "        self.conv6 = nn.Conv2d(96, 96, 3)\n",
    "\n",
    "\n",
    "    def forward(self, x):\n",
    "        x = func.relu(self.conv0(x))\n",
    "        x = func.max_pool2d(func.relu(self.conv1(x)))\n",
    "        x = func.max_pool2d(func.relu(self.conv2(x)))\n",
    "        x = func.max_pool2d(func.relu(self.conv3(x)))\n",
    "        x = func.max_pool2d(func.relu(self.conv4(x)))\n",
    "        x = func.relu(self.conv5(x))\n",
    "        x = func.relu(self.conv6(x))\n",
    "        return x\n",
    "\n",
    "class Decoder(nn.Module):\n",
    "    def __init__(self):\n",
    "        super.__init__()\n",
    "        self.concat1 = torch.cat((),1)\n",
    "\n",
    "    def forward(self, x):\n",
    "        pass    \n",
    "\n",
    "oidn = Denoiser()\n",
    "oidn"
   ]
  }
 ],
 "metadata": {
  "kernelspec": {
   "display_name": "KIProg",
   "language": "python",
   "name": "python3"
  },
  "language_info": {
   "codemirror_mode": {
    "name": "ipython",
    "version": 3
   },
   "file_extension": ".py",
   "mimetype": "text/x-python",
   "name": "python",
   "nbconvert_exporter": "python",
   "pygments_lexer": "ipython3",
   "version": "3.12.7"
  }
 },
 "nbformat": 4,
 "nbformat_minor": 2
}
